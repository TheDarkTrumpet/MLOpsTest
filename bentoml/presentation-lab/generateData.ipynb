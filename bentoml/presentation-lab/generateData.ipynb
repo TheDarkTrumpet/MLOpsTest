{
 "cells": [
  {
   "cell_type": "code",
   "execution_count": 1,
   "metadata": {
    "collapsed": true,
    "pycharm": {
     "name": "#%%\n"
    }
   },
   "outputs": [],
   "source": [
    "import pandas as pd\n",
    "from util import generateRecords"
   ]
  },
  {
   "cell_type": "code",
   "execution_count": 2,
   "outputs": [
    {
     "data": {
      "text/plain": "                                      Shape Softness  Happiness   Breed  \\\nKEY                                                                       \n5085d4c68a5f4eec91288eb4d49cb0ef  Rectangle   Medium         40  Calico   \n1b00272a9f474c5d9fb5320ddc9ee280     Square     Soft          3  Calico   \n08cf964e18f4497095cef70880149639  Rectangle   Medium         32  Calico   \n0b8aea12bd3a4a4a8440642e6091ab0a     Circle     Hard          8  Calico   \n1530f1821a4b4f2999527611d3182fcb     Square   Medium          5  Calico   \n...                                     ...      ...        ...     ...   \nfe203a066fb84cd98ea745403fefa790     Circle   Medium         12  Calico   \n644473622b664635b6d0bbb995432a90     Circle     Hard          6  Calico   \n056e061c81f04ecb8352aa4bc86ee774     Square   Medium          3  Calico   \n54e112187c06448eacad14c634ded0fd     Square   Medium          4  Calico   \n5431a1600f6b4f628a237ed1c14a4d0d     Circle   Medium         14  Calico   \n\n                                       Date  \nKEY                                          \n5085d4c68a5f4eec91288eb4d49cb0ef 2020-07-08  \n1b00272a9f474c5d9fb5320ddc9ee280 2020-07-24  \n08cf964e18f4497095cef70880149639 2020-07-20  \n0b8aea12bd3a4a4a8440642e6091ab0a 2020-07-03  \n1530f1821a4b4f2999527611d3182fcb 2020-07-07  \n...                                     ...  \nfe203a066fb84cd98ea745403fefa790 2020-07-06  \n644473622b664635b6d0bbb995432a90 2020-07-04  \n056e061c81f04ecb8352aa4bc86ee774 2020-07-11  \n54e112187c06448eacad14c634ded0fd 2020-07-24  \n5431a1600f6b4f628a237ed1c14a4d0d 2020-07-09  \n\n[100000 rows x 5 columns]",
      "text/html": "<div>\n<style scoped>\n    .dataframe tbody tr th:only-of-type {\n        vertical-align: middle;\n    }\n\n    .dataframe tbody tr th {\n        vertical-align: top;\n    }\n\n    .dataframe thead th {\n        text-align: right;\n    }\n</style>\n<table border=\"1\" class=\"dataframe\">\n  <thead>\n    <tr style=\"text-align: right;\">\n      <th></th>\n      <th>Shape</th>\n      <th>Softness</th>\n      <th>Happiness</th>\n      <th>Breed</th>\n      <th>Date</th>\n    </tr>\n    <tr>\n      <th>KEY</th>\n      <th></th>\n      <th></th>\n      <th></th>\n      <th></th>\n      <th></th>\n    </tr>\n  </thead>\n  <tbody>\n    <tr>\n      <th>5085d4c68a5f4eec91288eb4d49cb0ef</th>\n      <td>Rectangle</td>\n      <td>Medium</td>\n      <td>40</td>\n      <td>Calico</td>\n      <td>2020-07-08</td>\n    </tr>\n    <tr>\n      <th>1b00272a9f474c5d9fb5320ddc9ee280</th>\n      <td>Square</td>\n      <td>Soft</td>\n      <td>3</td>\n      <td>Calico</td>\n      <td>2020-07-24</td>\n    </tr>\n    <tr>\n      <th>08cf964e18f4497095cef70880149639</th>\n      <td>Rectangle</td>\n      <td>Medium</td>\n      <td>32</td>\n      <td>Calico</td>\n      <td>2020-07-20</td>\n    </tr>\n    <tr>\n      <th>0b8aea12bd3a4a4a8440642e6091ab0a</th>\n      <td>Circle</td>\n      <td>Hard</td>\n      <td>8</td>\n      <td>Calico</td>\n      <td>2020-07-03</td>\n    </tr>\n    <tr>\n      <th>1530f1821a4b4f2999527611d3182fcb</th>\n      <td>Square</td>\n      <td>Medium</td>\n      <td>5</td>\n      <td>Calico</td>\n      <td>2020-07-07</td>\n    </tr>\n    <tr>\n      <th>...</th>\n      <td>...</td>\n      <td>...</td>\n      <td>...</td>\n      <td>...</td>\n      <td>...</td>\n    </tr>\n    <tr>\n      <th>fe203a066fb84cd98ea745403fefa790</th>\n      <td>Circle</td>\n      <td>Medium</td>\n      <td>12</td>\n      <td>Calico</td>\n      <td>2020-07-06</td>\n    </tr>\n    <tr>\n      <th>644473622b664635b6d0bbb995432a90</th>\n      <td>Circle</td>\n      <td>Hard</td>\n      <td>6</td>\n      <td>Calico</td>\n      <td>2020-07-04</td>\n    </tr>\n    <tr>\n      <th>056e061c81f04ecb8352aa4bc86ee774</th>\n      <td>Square</td>\n      <td>Medium</td>\n      <td>3</td>\n      <td>Calico</td>\n      <td>2020-07-11</td>\n    </tr>\n    <tr>\n      <th>54e112187c06448eacad14c634ded0fd</th>\n      <td>Square</td>\n      <td>Medium</td>\n      <td>4</td>\n      <td>Calico</td>\n      <td>2020-07-24</td>\n    </tr>\n    <tr>\n      <th>5431a1600f6b4f628a237ed1c14a4d0d</th>\n      <td>Circle</td>\n      <td>Medium</td>\n      <td>14</td>\n      <td>Calico</td>\n      <td>2020-07-09</td>\n    </tr>\n  </tbody>\n</table>\n<p>100000 rows × 5 columns</p>\n</div>"
     },
     "execution_count": 2,
     "metadata": {},
     "output_type": "execute_result"
    }
   ],
   "source": [
    "\n",
    "records = generateRecords(100000)\n",
    "records = records.set_index(\"KEY\")\n",
    "records"
   ],
   "metadata": {
    "collapsed": false,
    "pycharm": {
     "name": "#%%\n"
    }
   }
  },
  {
   "cell_type": "code",
   "execution_count": 3,
   "outputs": [
    {
     "name": "stdout",
     "output_type": "stream",
     "text": [
      "<class 'pandas.core.frame.DataFrame'>\n",
      "Index: 100000 entries, 5085d4c68a5f4eec91288eb4d49cb0ef to 5431a1600f6b4f628a237ed1c14a4d0d\n",
      "Data columns (total 5 columns):\n",
      " #   Column     Non-Null Count   Dtype         \n",
      "---  ------     --------------   -----         \n",
      " 0   Shape      100000 non-null  object        \n",
      " 1   Softness   100000 non-null  object        \n",
      " 2   Happiness  100000 non-null  int64         \n",
      " 3   Breed      100000 non-null  object        \n",
      " 4   Date       100000 non-null  datetime64[ns]\n",
      "dtypes: datetime64[ns](1), int64(1), object(3)\n",
      "memory usage: 4.6+ MB\n"
     ]
    }
   ],
   "source": [
    "records.info()"
   ],
   "metadata": {
    "collapsed": false,
    "pycharm": {
     "name": "#%%\n"
    }
   }
  },
  {
   "cell_type": "code",
   "execution_count": 4,
   "outputs": [],
   "source": [
    "# Write to data/cat-happiness.csv\n",
    "records.to_csv(\"../../data/cat-happiness.csv\")"
   ],
   "metadata": {
    "collapsed": false,
    "pycharm": {
     "name": "#%%\n"
    }
   }
  }
 ],
 "metadata": {
  "kernelspec": {
   "display_name": "Python 3",
   "language": "python",
   "name": "python3"
  },
  "language_info": {
   "codemirror_mode": {
    "name": "ipython",
    "version": 2
   },
   "file_extension": ".py",
   "mimetype": "text/x-python",
   "name": "python",
   "nbconvert_exporter": "python",
   "pygments_lexer": "ipython2",
   "version": "2.7.6"
  }
 },
 "nbformat": 4,
 "nbformat_minor": 0
}