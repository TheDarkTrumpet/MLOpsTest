{
 "cells": [
  {
   "cell_type": "code",
   "execution_count": 1,
   "metadata": {
    "collapsed": true,
    "pycharm": {
     "name": "#%%\n"
    }
   },
   "outputs": [],
   "source": [
    "import pandas as pd\n",
    "import numpy as np\n",
    "from util import generateRecords"
   ]
  },
  {
   "cell_type": "code",
   "execution_count": 2,
   "outputs": [
    {
     "data": {
      "text/plain": "                                      Shape Softness  Happiness   Breed  \\\nKEY                                                                       \n049f391aa77a4f1fbc501a4b4a05b687  Rectangle   Medium         35  Calico   \n65d1ee358a0f4876887c5895897d1df5     Circle     Hard          7  Calico   \n8b78257bc9c0465a8e1d7b58463d7943  Rectangle     Soft         25  Calico   \n9dd06e7581d145da9673a005ff7b677e     Square     Soft          3  Calico   \n08971c5140bc4d8d9a9e74331d7048a3     Square     Soft          5  Calico   \n...                                     ...      ...        ...     ...   \na228c7b2c6b941e4b27b1f2866c32f9e     Circle     Soft         10  Calico   \na0f5490916264e8991354b23882c01db     Square   Medium          3  Calico   \nb69ad3c25fb04f49b84141258b453f08     Circle     Soft          5  Calico   \ne5f537099b054fc08d48a4b611dd16f7  Rectangle     Hard         15  Calico   \n3ed054ec5a5d4e76848c24a81b2d79c9     Circle     Hard          5  Calico   \n\n                                       Date  \nKEY                                          \n049f391aa77a4f1fbc501a4b4a05b687 2020-07-22  \n65d1ee358a0f4876887c5895897d1df5 2020-07-06  \n8b78257bc9c0465a8e1d7b58463d7943 2020-07-24  \n9dd06e7581d145da9673a005ff7b677e 2020-07-06  \n08971c5140bc4d8d9a9e74331d7048a3 2020-07-26  \n...                                     ...  \na228c7b2c6b941e4b27b1f2866c32f9e 2020-07-25  \na0f5490916264e8991354b23882c01db 2020-07-21  \nb69ad3c25fb04f49b84141258b453f08 2020-07-06  \ne5f537099b054fc08d48a4b611dd16f7 2020-07-13  \n3ed054ec5a5d4e76848c24a81b2d79c9 2020-07-06  \n\n[100000 rows x 5 columns]",
      "text/html": "<div>\n<style scoped>\n    .dataframe tbody tr th:only-of-type {\n        vertical-align: middle;\n    }\n\n    .dataframe tbody tr th {\n        vertical-align: top;\n    }\n\n    .dataframe thead th {\n        text-align: right;\n    }\n</style>\n<table border=\"1\" class=\"dataframe\">\n  <thead>\n    <tr style=\"text-align: right;\">\n      <th></th>\n      <th>Shape</th>\n      <th>Softness</th>\n      <th>Happiness</th>\n      <th>Breed</th>\n      <th>Date</th>\n    </tr>\n    <tr>\n      <th>KEY</th>\n      <th></th>\n      <th></th>\n      <th></th>\n      <th></th>\n      <th></th>\n    </tr>\n  </thead>\n  <tbody>\n    <tr>\n      <th>049f391aa77a4f1fbc501a4b4a05b687</th>\n      <td>Rectangle</td>\n      <td>Medium</td>\n      <td>35</td>\n      <td>Calico</td>\n      <td>2020-07-22</td>\n    </tr>\n    <tr>\n      <th>65d1ee358a0f4876887c5895897d1df5</th>\n      <td>Circle</td>\n      <td>Hard</td>\n      <td>7</td>\n      <td>Calico</td>\n      <td>2020-07-06</td>\n    </tr>\n    <tr>\n      <th>8b78257bc9c0465a8e1d7b58463d7943</th>\n      <td>Rectangle</td>\n      <td>Soft</td>\n      <td>25</td>\n      <td>Calico</td>\n      <td>2020-07-24</td>\n    </tr>\n    <tr>\n      <th>9dd06e7581d145da9673a005ff7b677e</th>\n      <td>Square</td>\n      <td>Soft</td>\n      <td>3</td>\n      <td>Calico</td>\n      <td>2020-07-06</td>\n    </tr>\n    <tr>\n      <th>08971c5140bc4d8d9a9e74331d7048a3</th>\n      <td>Square</td>\n      <td>Soft</td>\n      <td>5</td>\n      <td>Calico</td>\n      <td>2020-07-26</td>\n    </tr>\n    <tr>\n      <th>...</th>\n      <td>...</td>\n      <td>...</td>\n      <td>...</td>\n      <td>...</td>\n      <td>...</td>\n    </tr>\n    <tr>\n      <th>a228c7b2c6b941e4b27b1f2866c32f9e</th>\n      <td>Circle</td>\n      <td>Soft</td>\n      <td>10</td>\n      <td>Calico</td>\n      <td>2020-07-25</td>\n    </tr>\n    <tr>\n      <th>a0f5490916264e8991354b23882c01db</th>\n      <td>Square</td>\n      <td>Medium</td>\n      <td>3</td>\n      <td>Calico</td>\n      <td>2020-07-21</td>\n    </tr>\n    <tr>\n      <th>b69ad3c25fb04f49b84141258b453f08</th>\n      <td>Circle</td>\n      <td>Soft</td>\n      <td>5</td>\n      <td>Calico</td>\n      <td>2020-07-06</td>\n    </tr>\n    <tr>\n      <th>e5f537099b054fc08d48a4b611dd16f7</th>\n      <td>Rectangle</td>\n      <td>Hard</td>\n      <td>15</td>\n      <td>Calico</td>\n      <td>2020-07-13</td>\n    </tr>\n    <tr>\n      <th>3ed054ec5a5d4e76848c24a81b2d79c9</th>\n      <td>Circle</td>\n      <td>Hard</td>\n      <td>5</td>\n      <td>Calico</td>\n      <td>2020-07-06</td>\n    </tr>\n  </tbody>\n</table>\n<p>100000 rows × 5 columns</p>\n</div>"
     },
     "execution_count": 2,
     "metadata": {},
     "output_type": "execute_result"
    }
   ],
   "source": [
    "\n",
    "records = generateRecords(100000)\n",
    "records = records.set_index(\"KEY\")\n",
    "records"
   ],
   "metadata": {
    "collapsed": false,
    "pycharm": {
     "name": "#%%\n"
    }
   }
  },
  {
   "cell_type": "code",
   "execution_count": 3,
   "outputs": [
    {
     "data": {
      "text/plain": "                                      Shape Softness  Happiness   Breed  \\\nKEY                                                                       \n049f391aa77a4f1fbc501a4b4a05b687  Rectangle   Medium         35  Calico   \n65d1ee358a0f4876887c5895897d1df5     Circle     Hard          7  Calico   \n8b78257bc9c0465a8e1d7b58463d7943  Rectangle     Soft         25  Calico   \n9dd06e7581d145da9673a005ff7b677e     Square     Soft          3  Calico   \n08971c5140bc4d8d9a9e74331d7048a3     Square     Soft          5  Calico   \n...                                     ...      ...        ...     ...   \na228c7b2c6b941e4b27b1f2866c32f9e     Circle     Soft         10  Calico   \na0f5490916264e8991354b23882c01db     Square   Medium          3  Calico   \nb69ad3c25fb04f49b84141258b453f08     Circle     Soft          5  Calico   \ne5f537099b054fc08d48a4b611dd16f7  Rectangle     Hard         15  Calico   \n3ed054ec5a5d4e76848c24a81b2d79c9     Circle     Hard          5  Calico   \n\n                                       Date Happiness Classification  \nKEY                                                                   \n049f391aa77a4f1fbc501a4b4a05b687 2020-07-22                     High  \n65d1ee358a0f4876887c5895897d1df5 2020-07-06                    Lower  \n8b78257bc9c0465a8e1d7b58463d7943 2020-07-24                     High  \n9dd06e7581d145da9673a005ff7b677e 2020-07-06                    Lower  \n08971c5140bc4d8d9a9e74331d7048a3 2020-07-26                    Lower  \n...                                     ...                      ...  \na228c7b2c6b941e4b27b1f2866c32f9e 2020-07-25                   Medium  \na0f5490916264e8991354b23882c01db 2020-07-21                    Lower  \nb69ad3c25fb04f49b84141258b453f08 2020-07-06                    Lower  \ne5f537099b054fc08d48a4b611dd16f7 2020-07-13                   Medium  \n3ed054ec5a5d4e76848c24a81b2d79c9 2020-07-06                    Lower  \n\n[100000 rows x 6 columns]",
      "text/html": "<div>\n<style scoped>\n    .dataframe tbody tr th:only-of-type {\n        vertical-align: middle;\n    }\n\n    .dataframe tbody tr th {\n        vertical-align: top;\n    }\n\n    .dataframe thead th {\n        text-align: right;\n    }\n</style>\n<table border=\"1\" class=\"dataframe\">\n  <thead>\n    <tr style=\"text-align: right;\">\n      <th></th>\n      <th>Shape</th>\n      <th>Softness</th>\n      <th>Happiness</th>\n      <th>Breed</th>\n      <th>Date</th>\n      <th>Happiness Classification</th>\n    </tr>\n    <tr>\n      <th>KEY</th>\n      <th></th>\n      <th></th>\n      <th></th>\n      <th></th>\n      <th></th>\n      <th></th>\n    </tr>\n  </thead>\n  <tbody>\n    <tr>\n      <th>049f391aa77a4f1fbc501a4b4a05b687</th>\n      <td>Rectangle</td>\n      <td>Medium</td>\n      <td>35</td>\n      <td>Calico</td>\n      <td>2020-07-22</td>\n      <td>High</td>\n    </tr>\n    <tr>\n      <th>65d1ee358a0f4876887c5895897d1df5</th>\n      <td>Circle</td>\n      <td>Hard</td>\n      <td>7</td>\n      <td>Calico</td>\n      <td>2020-07-06</td>\n      <td>Lower</td>\n    </tr>\n    <tr>\n      <th>8b78257bc9c0465a8e1d7b58463d7943</th>\n      <td>Rectangle</td>\n      <td>Soft</td>\n      <td>25</td>\n      <td>Calico</td>\n      <td>2020-07-24</td>\n      <td>High</td>\n    </tr>\n    <tr>\n      <th>9dd06e7581d145da9673a005ff7b677e</th>\n      <td>Square</td>\n      <td>Soft</td>\n      <td>3</td>\n      <td>Calico</td>\n      <td>2020-07-06</td>\n      <td>Lower</td>\n    </tr>\n    <tr>\n      <th>08971c5140bc4d8d9a9e74331d7048a3</th>\n      <td>Square</td>\n      <td>Soft</td>\n      <td>5</td>\n      <td>Calico</td>\n      <td>2020-07-26</td>\n      <td>Lower</td>\n    </tr>\n    <tr>\n      <th>...</th>\n      <td>...</td>\n      <td>...</td>\n      <td>...</td>\n      <td>...</td>\n      <td>...</td>\n      <td>...</td>\n    </tr>\n    <tr>\n      <th>a228c7b2c6b941e4b27b1f2866c32f9e</th>\n      <td>Circle</td>\n      <td>Soft</td>\n      <td>10</td>\n      <td>Calico</td>\n      <td>2020-07-25</td>\n      <td>Medium</td>\n    </tr>\n    <tr>\n      <th>a0f5490916264e8991354b23882c01db</th>\n      <td>Square</td>\n      <td>Medium</td>\n      <td>3</td>\n      <td>Calico</td>\n      <td>2020-07-21</td>\n      <td>Lower</td>\n    </tr>\n    <tr>\n      <th>b69ad3c25fb04f49b84141258b453f08</th>\n      <td>Circle</td>\n      <td>Soft</td>\n      <td>5</td>\n      <td>Calico</td>\n      <td>2020-07-06</td>\n      <td>Lower</td>\n    </tr>\n    <tr>\n      <th>e5f537099b054fc08d48a4b611dd16f7</th>\n      <td>Rectangle</td>\n      <td>Hard</td>\n      <td>15</td>\n      <td>Calico</td>\n      <td>2020-07-13</td>\n      <td>Medium</td>\n    </tr>\n    <tr>\n      <th>3ed054ec5a5d4e76848c24a81b2d79c9</th>\n      <td>Circle</td>\n      <td>Hard</td>\n      <td>5</td>\n      <td>Calico</td>\n      <td>2020-07-06</td>\n      <td>Lower</td>\n    </tr>\n  </tbody>\n</table>\n<p>100000 rows × 6 columns</p>\n</div>"
     },
     "execution_count": 3,
     "metadata": {},
     "output_type": "execute_result"
    }
   ],
   "source": [
    "conditions = [\n",
    "    (records['Happiness'] <= 9),\n",
    "    (records['Happiness'] > 9) & (records['Happiness'] <= 19),\n",
    "    (records['Happiness'] > 19)\n",
    "    ]\n",
    "\n",
    "values = ['Lower', 'Medium', 'High']\n",
    "\n",
    "records['Happiness Classification'] = np.select(conditions, values)\n",
    "records"
   ],
   "metadata": {
    "collapsed": false,
    "pycharm": {
     "name": "#%%\n"
    }
   }
  },
  {
   "cell_type": "code",
   "execution_count": 4,
   "outputs": [
    {
     "name": "stdout",
     "output_type": "stream",
     "text": [
      "<class 'pandas.core.frame.DataFrame'>\n",
      "Index: 100000 entries, 049f391aa77a4f1fbc501a4b4a05b687 to 3ed054ec5a5d4e76848c24a81b2d79c9\n",
      "Data columns (total 6 columns):\n",
      " #   Column                    Non-Null Count   Dtype         \n",
      "---  ------                    --------------   -----         \n",
      " 0   Shape                     100000 non-null  object        \n",
      " 1   Softness                  100000 non-null  object        \n",
      " 2   Happiness                 100000 non-null  int64         \n",
      " 3   Breed                     100000 non-null  object        \n",
      " 4   Date                      100000 non-null  datetime64[ns]\n",
      " 5   Happiness Classification  100000 non-null  object        \n",
      "dtypes: datetime64[ns](1), int64(1), object(4)\n",
      "memory usage: 5.3+ MB\n"
     ]
    }
   ],
   "source": [
    "records.info()"
   ],
   "metadata": {
    "collapsed": false,
    "pycharm": {
     "name": "#%%\n"
    }
   }
  },
  {
   "cell_type": "code",
   "execution_count": 5,
   "outputs": [],
   "source": [
    "# Write to data/cat-happiness.csv\n",
    "records.to_csv(\"../../data/cat-happiness.csv\")"
   ],
   "metadata": {
    "collapsed": false,
    "pycharm": {
     "name": "#%%\n"
    }
   }
  }
 ],
 "metadata": {
  "kernelspec": {
   "display_name": "Python 3",
   "language": "python",
   "name": "python3"
  },
  "language_info": {
   "codemirror_mode": {
    "name": "ipython",
    "version": 2
   },
   "file_extension": ".py",
   "mimetype": "text/x-python",
   "name": "python",
   "nbconvert_exporter": "python",
   "pygments_lexer": "ipython2",
   "version": "2.7.6"
  }
 },
 "nbformat": 4,
 "nbformat_minor": 0
}