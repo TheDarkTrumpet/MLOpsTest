{
 "cells": [
  {
   "cell_type": "code",
   "execution_count": 2,
   "metadata": {
    "collapsed": true,
    "pycharm": {
     "name": "#%%\n"
    }
   },
   "outputs": [],
   "source": [
    "import pandas as pd\n",
    "from util import generateRecords"
   ]
  },
  {
   "cell_type": "code",
   "execution_count": 6,
   "outputs": [
    {
     "data": {
      "text/plain": "                                      Shape Softness  Happiness   Breed  \\\nKEY                                                                       \n0124252965864bd4899fb6475687d3ca  Rectangle   Medium         32  Calico   \n6ccdd9a3ecef43d98e21d8a6c5df625e     Square     Soft          5  Calico   \nab50b58b43dd4b5ab4ead43b4df6cb76  Rectangle     Hard         10  Calico   \nd4c1fc6af0ae4c74b00bb0e86ede1556  Rectangle     Hard         11  Calico   \nec72b33deffb4b479496bce1d8e56432     Square     Hard          5  Calico   \n...                                     ...      ...        ...     ...   \n8a5edece2e264e6d8c2eac676f0993f4     Square   Medium          3  Calico   \n77c3857a48ee4926b878e31294a6f0b0     Square   Medium          4  Calico   \nf7f7ab2919ce491ca4e0d34346deaefd     Square   Medium          3  Calico   \nb2b5f2ee9efe40b5aa9fe8157394fcfe     Circle     Hard          7  Calico   \n3f451d4756ec4fe09f10d4fd16427fe3     Circle     Hard          8  Calico   \n\n                                       Date  \nKEY                                          \n0124252965864bd4899fb6475687d3ca 2020-07-10  \n6ccdd9a3ecef43d98e21d8a6c5df625e 2020-07-01  \nab50b58b43dd4b5ab4ead43b4df6cb76 2020-07-30  \nd4c1fc6af0ae4c74b00bb0e86ede1556 2020-07-24  \nec72b33deffb4b479496bce1d8e56432 2020-07-28  \n...                                     ...  \n8a5edece2e264e6d8c2eac676f0993f4 2020-07-26  \n77c3857a48ee4926b878e31294a6f0b0 2020-07-27  \nf7f7ab2919ce491ca4e0d34346deaefd 2020-07-09  \nb2b5f2ee9efe40b5aa9fe8157394fcfe 2020-07-05  \n3f451d4756ec4fe09f10d4fd16427fe3 2020-07-24  \n\n[20000 rows x 5 columns]",
      "text/html": "<div>\n<style scoped>\n    .dataframe tbody tr th:only-of-type {\n        vertical-align: middle;\n    }\n\n    .dataframe tbody tr th {\n        vertical-align: top;\n    }\n\n    .dataframe thead th {\n        text-align: right;\n    }\n</style>\n<table border=\"1\" class=\"dataframe\">\n  <thead>\n    <tr style=\"text-align: right;\">\n      <th></th>\n      <th>Shape</th>\n      <th>Softness</th>\n      <th>Happiness</th>\n      <th>Breed</th>\n      <th>Date</th>\n    </tr>\n    <tr>\n      <th>KEY</th>\n      <th></th>\n      <th></th>\n      <th></th>\n      <th></th>\n      <th></th>\n    </tr>\n  </thead>\n  <tbody>\n    <tr>\n      <th>0124252965864bd4899fb6475687d3ca</th>\n      <td>Rectangle</td>\n      <td>Medium</td>\n      <td>32</td>\n      <td>Calico</td>\n      <td>2020-07-10</td>\n    </tr>\n    <tr>\n      <th>6ccdd9a3ecef43d98e21d8a6c5df625e</th>\n      <td>Square</td>\n      <td>Soft</td>\n      <td>5</td>\n      <td>Calico</td>\n      <td>2020-07-01</td>\n    </tr>\n    <tr>\n      <th>ab50b58b43dd4b5ab4ead43b4df6cb76</th>\n      <td>Rectangle</td>\n      <td>Hard</td>\n      <td>10</td>\n      <td>Calico</td>\n      <td>2020-07-30</td>\n    </tr>\n    <tr>\n      <th>d4c1fc6af0ae4c74b00bb0e86ede1556</th>\n      <td>Rectangle</td>\n      <td>Hard</td>\n      <td>11</td>\n      <td>Calico</td>\n      <td>2020-07-24</td>\n    </tr>\n    <tr>\n      <th>ec72b33deffb4b479496bce1d8e56432</th>\n      <td>Square</td>\n      <td>Hard</td>\n      <td>5</td>\n      <td>Calico</td>\n      <td>2020-07-28</td>\n    </tr>\n    <tr>\n      <th>...</th>\n      <td>...</td>\n      <td>...</td>\n      <td>...</td>\n      <td>...</td>\n      <td>...</td>\n    </tr>\n    <tr>\n      <th>8a5edece2e264e6d8c2eac676f0993f4</th>\n      <td>Square</td>\n      <td>Medium</td>\n      <td>3</td>\n      <td>Calico</td>\n      <td>2020-07-26</td>\n    </tr>\n    <tr>\n      <th>77c3857a48ee4926b878e31294a6f0b0</th>\n      <td>Square</td>\n      <td>Medium</td>\n      <td>4</td>\n      <td>Calico</td>\n      <td>2020-07-27</td>\n    </tr>\n    <tr>\n      <th>f7f7ab2919ce491ca4e0d34346deaefd</th>\n      <td>Square</td>\n      <td>Medium</td>\n      <td>3</td>\n      <td>Calico</td>\n      <td>2020-07-09</td>\n    </tr>\n    <tr>\n      <th>b2b5f2ee9efe40b5aa9fe8157394fcfe</th>\n      <td>Circle</td>\n      <td>Hard</td>\n      <td>7</td>\n      <td>Calico</td>\n      <td>2020-07-05</td>\n    </tr>\n    <tr>\n      <th>3f451d4756ec4fe09f10d4fd16427fe3</th>\n      <td>Circle</td>\n      <td>Hard</td>\n      <td>8</td>\n      <td>Calico</td>\n      <td>2020-07-24</td>\n    </tr>\n  </tbody>\n</table>\n<p>20000 rows × 5 columns</p>\n</div>"
     },
     "execution_count": 6,
     "metadata": {},
     "output_type": "execute_result"
    }
   ],
   "source": [
    "\n",
    "records = generateRecords(20000)\n",
    "records = records.set_index(\"KEY\")\n",
    "records"
   ],
   "metadata": {
    "collapsed": false,
    "pycharm": {
     "name": "#%%\n"
    }
   }
  }
 ],
 "metadata": {
  "kernelspec": {
   "display_name": "Python 3",
   "language": "python",
   "name": "python3"
  },
  "language_info": {
   "codemirror_mode": {
    "name": "ipython",
    "version": 2
   },
   "file_extension": ".py",
   "mimetype": "text/x-python",
   "name": "python",
   "nbconvert_exporter": "python",
   "pygments_lexer": "ipython2",
   "version": "2.7.6"
  }
 },
 "nbformat": 4,
 "nbformat_minor": 0
}