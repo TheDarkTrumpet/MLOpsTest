{
 "cells": [
  {
   "cell_type": "markdown",
   "source": [
    "# mlInteractive\n",
    "\n",
    "The purpose of this model is to generate a random forest algorithm from the data we generated from the `generateData.ipynb` file.  We'll save the service as a BentoML model."
   ],
   "metadata": {
    "collapsed": false,
    "pycharm": {
     "name": "#%% md\n"
    }
   }
  },
  {
   "cell_type": "code",
   "execution_count": 1,
   "outputs": [],
   "source": [
    "import bentoml\n",
    "from sklearn.ensemble import RandomForestClassifier\n",
    "from sklearn.neighbors import KNeighborsClassifier\n",
    "from sklearn.model_selection import train_test_split, cross_val_score\n",
    "from statistics import mean\n",
    "import pandas as pd"
   ],
   "metadata": {
    "collapsed": false,
    "pycharm": {
     "name": "#%%\n"
    }
   }
  },
  {
   "cell_type": "code",
   "execution_count": 2,
   "outputs": [],
   "source": [
    "def createCategoricalDummies(dataFrame, categoryList):\n",
    "    return pd.get_dummies(dataFrame[categoryList], prefix_sep = \"::\")"
   ],
   "metadata": {
    "collapsed": false,
    "pycharm": {
     "name": "#%%\n"
    }
   }
  },
  {
   "cell_type": "code",
   "execution_count": 3,
   "outputs": [
    {
     "data": {
      "text/plain": "                                      Shape Softness Happiness Classification\nKEY                                                                          \n049f391aa77a4f1fbc501a4b4a05b687  Rectangle   Medium                     High\n65d1ee358a0f4876887c5895897d1df5     Circle     Hard                    Lower\n8b78257bc9c0465a8e1d7b58463d7943  Rectangle     Soft                     High\n9dd06e7581d145da9673a005ff7b677e     Square     Soft                    Lower\n08971c5140bc4d8d9a9e74331d7048a3     Square     Soft                    Lower\n...                                     ...      ...                      ...\na228c7b2c6b941e4b27b1f2866c32f9e     Circle     Soft                   Medium\na0f5490916264e8991354b23882c01db     Square   Medium                    Lower\nb69ad3c25fb04f49b84141258b453f08     Circle     Soft                    Lower\ne5f537099b054fc08d48a4b611dd16f7  Rectangle     Hard                   Medium\n3ed054ec5a5d4e76848c24a81b2d79c9     Circle     Hard                    Lower\n\n[100000 rows x 3 columns]",
      "text/html": "<div>\n<style scoped>\n    .dataframe tbody tr th:only-of-type {\n        vertical-align: middle;\n    }\n\n    .dataframe tbody tr th {\n        vertical-align: top;\n    }\n\n    .dataframe thead th {\n        text-align: right;\n    }\n</style>\n<table border=\"1\" class=\"dataframe\">\n  <thead>\n    <tr style=\"text-align: right;\">\n      <th></th>\n      <th>Shape</th>\n      <th>Softness</th>\n      <th>Happiness Classification</th>\n    </tr>\n    <tr>\n      <th>KEY</th>\n      <th></th>\n      <th></th>\n      <th></th>\n    </tr>\n  </thead>\n  <tbody>\n    <tr>\n      <th>049f391aa77a4f1fbc501a4b4a05b687</th>\n      <td>Rectangle</td>\n      <td>Medium</td>\n      <td>High</td>\n    </tr>\n    <tr>\n      <th>65d1ee358a0f4876887c5895897d1df5</th>\n      <td>Circle</td>\n      <td>Hard</td>\n      <td>Lower</td>\n    </tr>\n    <tr>\n      <th>8b78257bc9c0465a8e1d7b58463d7943</th>\n      <td>Rectangle</td>\n      <td>Soft</td>\n      <td>High</td>\n    </tr>\n    <tr>\n      <th>9dd06e7581d145da9673a005ff7b677e</th>\n      <td>Square</td>\n      <td>Soft</td>\n      <td>Lower</td>\n    </tr>\n    <tr>\n      <th>08971c5140bc4d8d9a9e74331d7048a3</th>\n      <td>Square</td>\n      <td>Soft</td>\n      <td>Lower</td>\n    </tr>\n    <tr>\n      <th>...</th>\n      <td>...</td>\n      <td>...</td>\n      <td>...</td>\n    </tr>\n    <tr>\n      <th>a228c7b2c6b941e4b27b1f2866c32f9e</th>\n      <td>Circle</td>\n      <td>Soft</td>\n      <td>Medium</td>\n    </tr>\n    <tr>\n      <th>a0f5490916264e8991354b23882c01db</th>\n      <td>Square</td>\n      <td>Medium</td>\n      <td>Lower</td>\n    </tr>\n    <tr>\n      <th>b69ad3c25fb04f49b84141258b453f08</th>\n      <td>Circle</td>\n      <td>Soft</td>\n      <td>Lower</td>\n    </tr>\n    <tr>\n      <th>e5f537099b054fc08d48a4b611dd16f7</th>\n      <td>Rectangle</td>\n      <td>Hard</td>\n      <td>Medium</td>\n    </tr>\n    <tr>\n      <th>3ed054ec5a5d4e76848c24a81b2d79c9</th>\n      <td>Circle</td>\n      <td>Hard</td>\n      <td>Lower</td>\n    </tr>\n  </tbody>\n</table>\n<p>100000 rows × 3 columns</p>\n</div>"
     },
     "execution_count": 3,
     "metadata": {},
     "output_type": "execute_result"
    }
   ],
   "source": [
    "data = pd.read_csv(\"../../data/cat-happiness.csv\")\n",
    "data.set_index(\"KEY\", inplace=True)\n",
    "data = data[[\"Shape\", \"Softness\", \"Happiness Classification\"]]\n",
    "data"
   ],
   "metadata": {
    "collapsed": false,
    "pycharm": {
     "name": "#%%\n"
    }
   }
  },
  {
   "cell_type": "code",
   "execution_count": 4,
   "outputs": [],
   "source": [
    "feature_cols = [\"Shape\", \"Softness\"]\n",
    "target_col = \"Happiness Classification\""
   ],
   "metadata": {
    "collapsed": false,
    "pycharm": {
     "name": "#%%\n"
    }
   }
  },
  {
   "cell_type": "code",
   "execution_count": 5,
   "outputs": [
    {
     "data": {
      "text/plain": "                                 Happiness Classification  Shape::Circle  \\\nKEY                                                                        \n049f391aa77a4f1fbc501a4b4a05b687                     High              0   \n65d1ee358a0f4876887c5895897d1df5                    Lower              1   \n8b78257bc9c0465a8e1d7b58463d7943                     High              0   \n9dd06e7581d145da9673a005ff7b677e                    Lower              0   \n08971c5140bc4d8d9a9e74331d7048a3                    Lower              0   \n...                                                   ...            ...   \na228c7b2c6b941e4b27b1f2866c32f9e                   Medium              1   \na0f5490916264e8991354b23882c01db                    Lower              0   \nb69ad3c25fb04f49b84141258b453f08                    Lower              1   \ne5f537099b054fc08d48a4b611dd16f7                   Medium              0   \n3ed054ec5a5d4e76848c24a81b2d79c9                    Lower              1   \n\n                                  Shape::Rectangle  Shape::Square  \\\nKEY                                                                 \n049f391aa77a4f1fbc501a4b4a05b687                 1              0   \n65d1ee358a0f4876887c5895897d1df5                 0              0   \n8b78257bc9c0465a8e1d7b58463d7943                 1              0   \n9dd06e7581d145da9673a005ff7b677e                 0              1   \n08971c5140bc4d8d9a9e74331d7048a3                 0              1   \n...                                            ...            ...   \na228c7b2c6b941e4b27b1f2866c32f9e                 0              0   \na0f5490916264e8991354b23882c01db                 0              1   \nb69ad3c25fb04f49b84141258b453f08                 0              0   \ne5f537099b054fc08d48a4b611dd16f7                 1              0   \n3ed054ec5a5d4e76848c24a81b2d79c9                 0              0   \n\n                                  Softness::Hard  Softness::Medium  \\\nKEY                                                                  \n049f391aa77a4f1fbc501a4b4a05b687               0                 1   \n65d1ee358a0f4876887c5895897d1df5               1                 0   \n8b78257bc9c0465a8e1d7b58463d7943               0                 0   \n9dd06e7581d145da9673a005ff7b677e               0                 0   \n08971c5140bc4d8d9a9e74331d7048a3               0                 0   \n...                                          ...               ...   \na228c7b2c6b941e4b27b1f2866c32f9e               0                 0   \na0f5490916264e8991354b23882c01db               0                 1   \nb69ad3c25fb04f49b84141258b453f08               0                 0   \ne5f537099b054fc08d48a4b611dd16f7               1                 0   \n3ed054ec5a5d4e76848c24a81b2d79c9               1                 0   \n\n                                  Softness::Soft  \nKEY                                               \n049f391aa77a4f1fbc501a4b4a05b687               0  \n65d1ee358a0f4876887c5895897d1df5               0  \n8b78257bc9c0465a8e1d7b58463d7943               1  \n9dd06e7581d145da9673a005ff7b677e               1  \n08971c5140bc4d8d9a9e74331d7048a3               1  \n...                                          ...  \na228c7b2c6b941e4b27b1f2866c32f9e               1  \na0f5490916264e8991354b23882c01db               0  \nb69ad3c25fb04f49b84141258b453f08               1  \ne5f537099b054fc08d48a4b611dd16f7               0  \n3ed054ec5a5d4e76848c24a81b2d79c9               0  \n\n[100000 rows x 7 columns]",
      "text/html": "<div>\n<style scoped>\n    .dataframe tbody tr th:only-of-type {\n        vertical-align: middle;\n    }\n\n    .dataframe tbody tr th {\n        vertical-align: top;\n    }\n\n    .dataframe thead th {\n        text-align: right;\n    }\n</style>\n<table border=\"1\" class=\"dataframe\">\n  <thead>\n    <tr style=\"text-align: right;\">\n      <th></th>\n      <th>Happiness Classification</th>\n      <th>Shape::Circle</th>\n      <th>Shape::Rectangle</th>\n      <th>Shape::Square</th>\n      <th>Softness::Hard</th>\n      <th>Softness::Medium</th>\n      <th>Softness::Soft</th>\n    </tr>\n    <tr>\n      <th>KEY</th>\n      <th></th>\n      <th></th>\n      <th></th>\n      <th></th>\n      <th></th>\n      <th></th>\n      <th></th>\n    </tr>\n  </thead>\n  <tbody>\n    <tr>\n      <th>049f391aa77a4f1fbc501a4b4a05b687</th>\n      <td>High</td>\n      <td>0</td>\n      <td>1</td>\n      <td>0</td>\n      <td>0</td>\n      <td>1</td>\n      <td>0</td>\n    </tr>\n    <tr>\n      <th>65d1ee358a0f4876887c5895897d1df5</th>\n      <td>Lower</td>\n      <td>1</td>\n      <td>0</td>\n      <td>0</td>\n      <td>1</td>\n      <td>0</td>\n      <td>0</td>\n    </tr>\n    <tr>\n      <th>8b78257bc9c0465a8e1d7b58463d7943</th>\n      <td>High</td>\n      <td>0</td>\n      <td>1</td>\n      <td>0</td>\n      <td>0</td>\n      <td>0</td>\n      <td>1</td>\n    </tr>\n    <tr>\n      <th>9dd06e7581d145da9673a005ff7b677e</th>\n      <td>Lower</td>\n      <td>0</td>\n      <td>0</td>\n      <td>1</td>\n      <td>0</td>\n      <td>0</td>\n      <td>1</td>\n    </tr>\n    <tr>\n      <th>08971c5140bc4d8d9a9e74331d7048a3</th>\n      <td>Lower</td>\n      <td>0</td>\n      <td>0</td>\n      <td>1</td>\n      <td>0</td>\n      <td>0</td>\n      <td>1</td>\n    </tr>\n    <tr>\n      <th>...</th>\n      <td>...</td>\n      <td>...</td>\n      <td>...</td>\n      <td>...</td>\n      <td>...</td>\n      <td>...</td>\n      <td>...</td>\n    </tr>\n    <tr>\n      <th>a228c7b2c6b941e4b27b1f2866c32f9e</th>\n      <td>Medium</td>\n      <td>1</td>\n      <td>0</td>\n      <td>0</td>\n      <td>0</td>\n      <td>0</td>\n      <td>1</td>\n    </tr>\n    <tr>\n      <th>a0f5490916264e8991354b23882c01db</th>\n      <td>Lower</td>\n      <td>0</td>\n      <td>0</td>\n      <td>1</td>\n      <td>0</td>\n      <td>1</td>\n      <td>0</td>\n    </tr>\n    <tr>\n      <th>b69ad3c25fb04f49b84141258b453f08</th>\n      <td>Lower</td>\n      <td>1</td>\n      <td>0</td>\n      <td>0</td>\n      <td>0</td>\n      <td>0</td>\n      <td>1</td>\n    </tr>\n    <tr>\n      <th>e5f537099b054fc08d48a4b611dd16f7</th>\n      <td>Medium</td>\n      <td>0</td>\n      <td>1</td>\n      <td>0</td>\n      <td>1</td>\n      <td>0</td>\n      <td>0</td>\n    </tr>\n    <tr>\n      <th>3ed054ec5a5d4e76848c24a81b2d79c9</th>\n      <td>Lower</td>\n      <td>1</td>\n      <td>0</td>\n      <td>0</td>\n      <td>1</td>\n      <td>0</td>\n      <td>0</td>\n    </tr>\n  </tbody>\n</table>\n<p>100000 rows × 7 columns</p>\n</div>"
     },
     "execution_count": 5,
     "metadata": {},
     "output_type": "execute_result"
    }
   ],
   "source": [
    "data_v = pd.concat([data.drop(feature_cols, axis=1), createCategoricalDummies(data, feature_cols)], axis = 1)\n",
    "data_v"
   ],
   "metadata": {
    "collapsed": false,
    "pycharm": {
     "name": "#%%\n"
    }
   }
  },
  {
   "cell_type": "code",
   "execution_count": 6,
   "outputs": [],
   "source": [
    "feature_cols = list(data_v.columns)\n",
    "feature_cols.remove(\"Happiness Classification\")"
   ],
   "metadata": {
    "collapsed": false,
    "pycharm": {
     "name": "#%%\n"
    }
   }
  },
  {
   "cell_type": "code",
   "execution_count": 7,
   "outputs": [],
   "source": [
    "X = data_v[feature_cols].to_numpy()\n",
    "y = data_v[target_col].to_numpy()"
   ],
   "metadata": {
    "collapsed": false,
    "pycharm": {
     "name": "#%%\n"
    }
   }
  },
  {
   "cell_type": "code",
   "execution_count": 8,
   "outputs": [],
   "source": [
    "X_train, X_test, y_train, y_test = train_test_split(X, y, test_size=0.25)"
   ],
   "metadata": {
    "collapsed": false,
    "pycharm": {
     "name": "#%%\n"
    }
   }
  },
  {
   "cell_type": "markdown",
   "source": [
    "# Using KNN (for fun)"
   ],
   "metadata": {
    "collapsed": false,
    "pycharm": {
     "name": "#%% md\n"
    }
   }
  },
  {
   "cell_type": "code",
   "execution_count": 9,
   "outputs": [
    {
     "data": {
      "text/plain": "0.91004"
     },
     "execution_count": 9,
     "metadata": {},
     "output_type": "execute_result"
    }
   ],
   "source": [
    "knn = KNeighborsClassifier()  # Using default 5\n",
    "knn.fit(X_train, y_train)\n",
    "knn.score(X_test, y_test)"
   ],
   "metadata": {
    "collapsed": false,
    "pycharm": {
     "name": "#%%\n"
    }
   }
  },
  {
   "cell_type": "markdown",
   "source": [
    "# Random Forest\n",
    "Random Forest was found to be the best algorithm while I was messing around in Weka (see Weka folder)."
   ],
   "metadata": {
    "collapsed": false,
    "pycharm": {
     "name": "#%% md\n"
    }
   }
  },
  {
   "cell_type": "code",
   "execution_count": 10,
   "outputs": [
    {
     "data": {
      "text/plain": "0.91004"
     },
     "execution_count": 10,
     "metadata": {},
     "output_type": "execute_result"
    }
   ],
   "source": [
    "rfc = RandomForestClassifier()\n",
    "rfc.fit(X_train, y_train)\n",
    "rfc.score(X_test, y_test)"
   ],
   "metadata": {
    "collapsed": false,
    "pycharm": {
     "name": "#%%\n"
    }
   }
  },
  {
   "cell_type": "code",
   "execution_count": 11,
   "outputs": [
    {
     "data": {
      "text/plain": "array([0.9084, 0.9114, 0.9132, 0.9127, 0.91  , 0.9082, 0.9154, 0.9135,\n       0.9104, 0.9143])"
     },
     "execution_count": 11,
     "metadata": {},
     "output_type": "execute_result"
    }
   ],
   "source": [
    "# Try cross validation to see if we have differences here.\n",
    "rfc_cross = RandomForestClassifier()\n",
    "scores = cross_val_score(rfc_cross, X, y, cv=10)\n",
    "scores"
   ],
   "metadata": {
    "collapsed": false,
    "pycharm": {
     "name": "#%%\n"
    }
   }
  },
  {
   "cell_type": "code",
   "execution_count": 12,
   "outputs": [
    {
     "data": {
      "text/plain": "0.91175"
     },
     "execution_count": 12,
     "metadata": {},
     "output_type": "execute_result"
    }
   ],
   "source": [
    "mean(scores)  # This closer matches what we got from Weka, which is 91.175"
   ],
   "metadata": {
    "collapsed": false,
    "pycharm": {
     "name": "#%%\n"
    }
   }
  },
  {
   "cell_type": "code",
   "execution_count": 13,
   "outputs": [
    {
     "name": "stdout",
     "output_type": "stream",
     "text": [
      "Model saved: Model(tag=\"cat_toy:4pwiqyarcsq55lg6\")\n"
     ]
    },
    {
     "data": {
      "text/plain": "Model(tag=\"cat_toy:4pwiqyarcsq55lg6\", path=\"/Users/dthole/bentoml/models/cat_toy/4pwiqyarcsq55lg6/\")"
     },
     "execution_count": 13,
     "metadata": {},
     "output_type": "execute_result"
    }
   ],
   "source": [
    "saved_model = bentoml.sklearn.save_model(\"cat_toy\", rfc)\n",
    "print(f\"Model saved: {saved_model}\")\n",
    "saved_model"
   ],
   "metadata": {
    "collapsed": false,
    "pycharm": {
     "name": "#%%\n"
    }
   }
  }
 ],
 "metadata": {
  "kernelspec": {
   "display_name": "Python 3",
   "language": "python",
   "name": "python3"
  },
  "language_info": {
   "codemirror_mode": {
    "name": "ipython",
    "version": 2
   },
   "file_extension": ".py",
   "mimetype": "text/x-python",
   "name": "python",
   "nbconvert_exporter": "python",
   "pygments_lexer": "ipython2",
   "version": "2.7.6"
  }
 },
 "nbformat": 4,
 "nbformat_minor": 0
}